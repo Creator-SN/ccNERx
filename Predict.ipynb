{
 "cells": [
  {
   "cell_type": "code",
   "execution_count": null,
   "metadata": {},
   "outputs": [],
   "source": [
    "from CC.trainer import NERTrainer\n",
    "\n",
    "args = {\n",
    "    'num_epochs': 30,\n",
    "    'num_gpus': [0, 1, 2, 3],\n",
    "    'bert_config_file_name': './model/chinese_wwm_ext/config.json',\n",
    "    'pretrained_file_name': './model/chinese_wwm_ext/pytorch_model.bin',\n",
    "    'hidden_dim': 300,\n",
    "    'max_seq_length': 150,\n",
    "    'max_scan_num': 1000000,\n",
    "    'train_file': 'data/ontonotes5/train.json',\n",
    "    'eval_file': 'data/ontonotes5/dev.json',\n",
    "    'test_file': 'data/ontonotes5/test.json',\n",
    "    'bert_vocab_file': './model/chinese_wwm_ext/vocab.txt',\n",
    "    'tag_file': 'data/ontonotes5/ontonotes5_labels.txt',\n",
    "    'output_eval': True,\n",
    "    'loader_name': 'le_loader',\n",
    "    \"word_embedding_file\": \"./data/tencent/word_embedding.txt\",\n",
    "    \"word_vocab_file\": \"./data/tencent/tencent_vocab.txt\",\n",
    "    \"default_tag\": \"O\",\n",
    "    'batch_size': 64,\n",
    "    'eval_batch_size': 512,\n",
    "    'do_shuffle': True,\n",
    "    'model_name': 'LEBert',\n",
    "    'task_name': 'super_predict_model'\n",
    "}\n",
    "\n",
    "from CC.predicter import NERPredict\n",
    "import json\n",
    "\n",
    "# 使用了预训练模型\n",
    "args[\"lstm_crf_model_file\"] = \"/home/lpc/repos/ccNERx/save_model/ontonotes5/lstm_crf/lstm_crf_13823.pth\"\n",
    "args[\"bert_model_file\"] = \"/home/lpc/repos/ccNERx/save_model/ontonotes5/LEBert/LEBert_13823.pth\"\n",
    "predict = NERPredict(**args)\n"
   ]
  },
  {
   "cell_type": "code",
   "execution_count": null,
   "metadata": {},
   "outputs": [],
   "source": [
    "import torch\n",
    "text = \"九十年代\"\n",
    "print(predict([text]))\n",
    "hidden_state,masks = predict.p([text])\n",
    "\n",
    "crf = predict.birnncrf.crf\n",
    "features,masks = predict.birnncrf._BiRnnCrf__build_features(hidden_state,masks)\n",
    "\n",
    "features = crf.fc(features)\n",
    "L = features.size(1)\n",
    "masks_ = masks[:, :L].float()\n",
    "\n",
    "tag_vocab = predict.dataloader()[\"tag_vocab\"]\n",
    "labels = tag_vocab.item2idx.keys()\n",
    "labels_set = set()\n",
    "for label in labels:\n",
    "    labels_set.add(label.split(\"-\")[-1])\n",
    "\n",
    "from CC.loaders.utils.label import get_labels\n",
    "# 构造标签集合\n",
    "\n",
    "ans = []\n",
    "for label in labels_set:\n",
    "    paths = []\n",
    "    if label != \"O\":\n",
    "        paths = [\"O\"] + get_labels(label,len(text),has_end=False,middle_symbol=\"I\")\n",
    "    paths += [\"O\"] * (150-len(paths))\n",
    "    # print(paths)\n",
    "    paths = torch.tensor(tag_vocab.token2id(paths),dtype=torch.long).unsqueeze(0)\n",
    "    ans.append(crf._CRF__score_sentence(features,paths[:, :L].long(),masks_).item())\n",
    "    # print(crf.loss(features,paths,masks))\n",
    "soft = torch.nn.Softmax(-1)\n",
    "ans = soft(torch.tensor(ans))\n",
    "for label,ans in zip(labels_set,ans):\n",
    "    print(label,round(ans.item(),6))"
   ]
  }
 ],
 "metadata": {
  "interpreter": {
   "hash": "9627571863819468058fb8a0d45e3ad069ccb5b5ca291368ca8fe24c04521c7e"
  },
  "kernelspec": {
   "display_name": "Python 3.8.12 64-bit ('ccner': conda)",
   "language": "python",
   "name": "python3"
  },
  "language_info": {
   "codemirror_mode": {
    "name": "ipython",
    "version": 3
   },
   "file_extension": ".py",
   "mimetype": "text/x-python",
   "name": "python",
   "nbconvert_exporter": "python",
   "pygments_lexer": "ipython3",
   "version": "3.8.12"
  },
  "orig_nbformat": 4
 },
 "nbformat": 4,
 "nbformat_minor": 2
}
