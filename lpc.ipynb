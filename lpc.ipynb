{
 "cells": [
  {
   "cell_type": "markdown",
   "metadata": {},
   "source": [
    "## Fine-tune"
   ]
  },
  {
   "cell_type": "code",
   "execution_count": 1,
   "metadata": {},
   "outputs": [],
   "source": [
    "import json\n",
    "from CC.predicter import NERPredict\n",
    "from CC.trainer import NERTrainer"
   ]
  },
  {
   "cell_type": "markdown",
   "metadata": {},
   "source": [
    "### Fine-tune 参数设置\n",
    "\n",
    "适用于**le_loader**下的fine-tune任务"
   ]
  },
  {
   "cell_type": "code",
   "execution_count": 2,
   "metadata": {},
   "outputs": [],
   "source": [
    "# %%\n",
    "args = {\n",
    "    'num_epochs': 30,\n",
    "    'num_gpus': [0, 1, 2, 3],\n",
    "    'bert_config_file_name': './model/chinese_wwm_ext/bert_config.json',\n",
    "    'pretrained_file_name': './model/chinese_wwm_ext/pytorch_model.bin',\n",
    "    'hidden_dim': 300,\n",
    "    'max_seq_length': 150,\n",
    "    'max_scan_num': 1000000,\n",
    "    'train_file': './data/weibo/train.json',\n",
    "    'eval_file': './data/weibo/dev.json',\n",
    "    'test_file': './data/weibo/test.json',\n",
    "    'bert_vocab_file': './model/chinese_wwm_ext/vocab.txt',\n",
    "    'tag_file': './data/weibo/labels.txt',\n",
    "    'output_eval': True,\n",
    "    'loader_name': 'le_loader',\n",
    "    \"word_embedding_file\":\"./data/tencent/word_embedding.txt\",\n",
    "    \"word_vocab_file\":\"./data/tencent/tencent_vocab.txt\",\n",
    "    \"default_tag\":\"O\",\n",
    "    'batch_size': 16,\n",
    "    'eval_batch_size': 64,\n",
    "    'do_shuffle': True,\n",
    "    'model_name': 'LEBert',\n",
    "    'task_name': 'weibo'\n",
    "}"
   ]
  },
  {
   "cell_type": "markdown",
   "metadata": {},
   "source": [
    "### 参数微调\n",
    "\n",
    "调整`Pretrained`和`task name`"
   ]
  },
  {
   "cell_type": "code",
   "execution_count": 3,
   "metadata": {},
   "outputs": [],
   "source": [
    "args['pretrained_file_name'] = './save_pretrained/Weibo_Full_Pretrained/Bert_1204/pytorch_model.bin'\n",
    "args['train_file'] = './data/weibo/train.json'\n",
    "args['task_name'] = 'weibo'"
   ]
  },
  {
   "cell_type": "code",
   "execution_count": 4,
   "metadata": {},
   "outputs": [
    {
     "name": "stderr",
     "output_type": "stream",
     "text": [
      "calculate ./data/weibo/train.json etag: 100%|██████████| 911k/911k [00:00<00:00, 268MB/s]\n",
      "calculate ./data/weibo/dev.json etag: 100%|██████████| 180k/180k [00:00<00:00, 166MB/s]\n",
      "calculate ./data/weibo/test.json etag: 100%|██████████| 184k/184k [00:00<00:00, 184MB/s]\n",
      "calculate ./data/weibo/labels.txt etag: 100%|██████████| 272/272 [00:00<00:00, 486kB/s]"
     ]
    },
    {
     "name": "stdout",
     "output_type": "stream",
     "text": [
      "kwargs parser: {\n",
      "    \"batch_size\": 16,\n",
      "    \"eval_batch_size\": 64,\n",
      "    \"test_batch_size\": 16,\n",
      "    \"word_embedding_file\": \"./data/tencent/word_embedding.txt\",\n",
      "    \"word_vocab_file\": \"./data/tencent/tencent_vocab.txt\",\n",
      "    \"train_file\": \"./data/weibo/train.json\",\n",
      "    \"eval_file\": \"./data/weibo/dev.json\",\n",
      "    \"test_file\": \"./data/weibo/test.json\",\n",
      "    \"tag_file\": \"./data/weibo/labels.txt\",\n",
      "    \"bert_vocab_file\": \"./model/chinese_wwm_ext/vocab.txt\",\n",
      "    \"output_eval\": true,\n",
      "    \"max_scan_num\": 1000000,\n",
      "    \"add_seq_vocab\": false,\n",
      "    \"max_seq_length\": 150,\n",
      "    \"max_word_num\": 5,\n",
      "    \"default_tag\": \"O\",\n",
      "    \"use_test\": false,\n",
      "    \"do_shuffle\": true,\n",
      "    \"do_predict\": false,\n",
      "    \"task_name\": \"weibo\"\n",
      "}\n",
      "load cached ./temp/608bcbc6e9bce87831866c0b60dafa81_09aa1aaf832ce26fdd3856a1e9efec4a_80b03b9eb036cba8e85f623155e5f057_c8c242fc3f6ea09f357d4bd7f5116722/1000000/lexicon_tree\n"
     ]
    },
    {
     "name": "stderr",
     "output_type": "stream",
     "text": [
      "\n",
      "count line size ./data/weibo/labels.txt: 29L [00:00, 217983.54L/s]\n",
      "build line mapper: 29L [00:00, 298857.04L/s]\n",
      "load vocab from files: 100%|██████████| 29/29 [00:00<00:00, 5867.86it/s]\n",
      "load vocab from list: 100%|██████████| 28/28 [00:00<00:00, 275681.95it/s]\n",
      "/home/lpc/miniconda3/envs/pcpower/lib/python3.8/site-packages/transformers/tokenization_utils_base.py:1642: FutureWarning: Calling BertTokenizer.from_pretrained() with the path to a single file or url is deprecated and won't be possible anymore in v5. Use a model identifier or the path to a directory instead.\n",
      "  warnings.warn(\n",
      "load dataset from ./data/weibo/train.json:   0%|          | 0/1351 [00:00<?, ?it/s]"
     ]
    },
    {
     "name": "stdout",
     "output_type": "stream",
     "text": [
      "load cached ./temp/608bcbc6e9bce87831866c0b60dafa81_09aa1aaf832ce26fdd3856a1e9efec4a_80b03b9eb036cba8e85f623155e5f057_c8c242fc3f6ea09f357d4bd7f5116722/1000000/matched_words\n",
      "load cached ./temp/608bcbc6e9bce87831866c0b60dafa81_09aa1aaf832ce26fdd3856a1e9efec4a_80b03b9eb036cba8e85f623155e5f057_c8c242fc3f6ea09f357d4bd7f5116722/1000000/word_vocab\n",
      "load cached ./temp/608bcbc6e9bce87831866c0b60dafa81_09aa1aaf832ce26fdd3856a1e9efec4a_80b03b9eb036cba8e85f623155e5f057_c8c242fc3f6ea09f357d4bd7f5116722/1000000/vocab_embedding\n"
     ]
    },
    {
     "name": "stderr",
     "output_type": "stream",
     "text": [
      "load dataset from ./data/weibo/train.json: 100%|██████████| 1351/1351 [00:00<00:00, 1404.37it/s]\n",
      "load dataset from ./data/weibo/dev.json: 100%|██████████| 271/271 [00:00<00:00, 1457.84it/s]\n"
     ]
    },
    {
     "name": "stdout",
     "output_type": "stream",
     "text": [
      "Load pretrained embedding from file.........\n"
     ]
    },
    {
     "name": "stderr",
     "output_type": "stream",
     "text": [
      "Some weights of the model checkpoint at ./model/chinese_wwm_ext/pytorch_model.bin were not used when initializing LEBertModel: ['cls.predictions.transform.LayerNorm.bias', 'cls.predictions.bias', 'cls.predictions.transform.dense.bias', 'cls.predictions.transform.LayerNorm.weight', 'cls.seq_relationship.weight', 'cls.predictions.transform.dense.weight', 'cls.seq_relationship.bias', 'cls.predictions.decoder.weight']\n",
      "- This IS expected if you are initializing LEBertModel from the checkpoint of a model trained on another task or with another architecture (e.g. initializing a BertForSequenceClassification model from a BertForPreTraining model).\n",
      "- This IS NOT expected if you are initializing LEBertModel from the checkpoint of a model that you expect to be exactly identical (initializing a BertForSequenceClassification model from a BertForSequenceClassification model).\n",
      "Some weights of LEBertModel were not initialized from the model checkpoint at ./model/chinese_wwm_ext/pytorch_model.bin and are newly initialized: ['bert.encoder.layer.0.fuse_layernorm.bias', 'bert.embeddings.position_ids', 'bert.encoder.layer.0.word_word_weight.bias', 'bert.encoder.layer.0.word_transform.bias', 'bert.encoder.layer.0.word_transform.weight', 'bert.encoder.layer.0.attn_W', 'word_embeddings.weight', 'bert.encoder.layer.0.fuse_layernorm.weight', 'bert.encoder.layer.0.word_word_weight.weight']\n",
      "You should probably TRAIN this model on a down-stream task to be able to use it for predictions and inference.\n",
      "Epoch: 1/30 Train: 100%|██████████| 85/85 [01:24<00:00,  1.01it/s, F1=0.000615, train_acc=0.834, train_loss=43.7, train_precision=0.000382, train_recall=0.00159]\n",
      "Eval Result: 100%|██████████| 5/5 [00:03<00:00,  1.52it/s, F1=0.0152, eval_acc=0.943, eval_loss=11.6, eval_precision=0.0132, eval_recall=0.018]\n",
      "Epoch: 2/30 Train: 100%|██████████| 85/85 [01:12<00:00,  1.17it/s, F1=0.341, train_acc=0.955, train_loss=9.52, train_precision=0.332, train_recall=0.349]\n",
      "Eval Result: 100%|██████████| 5/5 [00:02<00:00,  1.72it/s, F1=0.56, eval_acc=0.962, eval_loss=5.85, eval_precision=0.471, eval_recall=0.692]\n",
      "Epoch: 3/30 Train: 100%|██████████| 85/85 [01:12<00:00,  1.17it/s, F1=0.638, train_acc=0.972, train_loss=5.17, train_precision=0.617, train_recall=0.661]\n",
      "Eval Result: 100%|██████████| 5/5 [00:02<00:00,  1.73it/s, F1=0.641, eval_acc=0.97, eval_loss=4.35, eval_precision=0.609, eval_recall=0.676]\n",
      "Epoch: 4/30 Train: 100%|██████████| 85/85 [01:12<00:00,  1.17it/s, F1=0.76, train_acc=0.979, train_loss=3.36, train_precision=0.744, train_recall=0.777]\n",
      "Eval Result: 100%|██████████| 5/5 [00:02<00:00,  1.73it/s, F1=0.668, eval_acc=0.969, eval_loss=4.95, eval_precision=0.658, eval_recall=0.679]\n",
      "Epoch: 5/30 Train: 100%|██████████| 85/85 [01:13<00:00,  1.16it/s, F1=0.836, train_acc=0.985, train_loss=2.33, train_precision=0.832, train_recall=0.841]\n",
      "Eval Result: 100%|██████████| 5/5 [00:02<00:00,  1.73it/s, F1=0.684, eval_acc=0.969, eval_loss=5.01, eval_precision=0.647, eval_recall=0.725]\n",
      "Epoch: 6/30 Train: 100%|██████████| 85/85 [01:15<00:00,  1.13it/s, F1=0.877, train_acc=0.989, train_loss=1.66, train_precision=0.873, train_recall=0.88]\n",
      "Eval Result: 100%|██████████| 5/5 [00:03<00:00,  1.57it/s, F1=0.664, eval_acc=0.956, eval_loss=5.81, eval_precision=0.598, eval_recall=0.748]\n",
      "Epoch: 7/30 Train: 100%|██████████| 85/85 [01:12<00:00,  1.17it/s, F1=0.914, train_acc=0.992, train_loss=1.1, train_precision=0.904, train_recall=0.925]\n",
      "Eval Result: 100%|██████████| 5/5 [00:02<00:00,  1.73it/s, F1=0.701, eval_acc=0.967, eval_loss=5.18, eval_precision=0.667, eval_recall=0.738]\n",
      "Epoch: 8/30 Train: 100%|██████████| 85/85 [01:12<00:00,  1.17it/s, F1=0.936, train_acc=0.993, train_loss=0.894, train_precision=0.93, train_recall=0.942]\n",
      "Eval Result: 100%|██████████| 5/5 [00:03<00:00,  1.66it/s, F1=0.705, eval_acc=0.969, eval_loss=5.32, eval_precision=0.722, eval_recall=0.689]\n",
      "Epoch: 9/30 Train: 100%|██████████| 85/85 [01:13<00:00,  1.16it/s, F1=0.942, train_acc=0.994, train_loss=0.836, train_precision=0.937, train_recall=0.947]\n",
      "Eval Result: 100%|██████████| 5/5 [00:02<00:00,  1.73it/s, F1=0.69, eval_acc=0.968, eval_loss=5.01, eval_precision=0.684, eval_recall=0.697]\n",
      "Epoch: 10/30 Train: 100%|██████████| 85/85 [01:15<00:00,  1.12it/s, F1=0.958, train_acc=0.996, train_loss=0.565, train_precision=0.952, train_recall=0.965]\n",
      "Eval Result: 100%|██████████| 5/5 [00:03<00:00,  1.43it/s, F1=0.707, eval_acc=0.97, eval_loss=5.33, eval_precision=0.716, eval_recall=0.699]\n",
      "Epoch: 11/30 Train: 100%|██████████| 85/85 [01:12<00:00,  1.16it/s, F1=0.961, train_acc=0.996, train_loss=0.561, train_precision=0.958, train_recall=0.964]\n",
      "Eval Result: 100%|██████████| 5/5 [00:02<00:00,  1.73it/s, F1=0.715, eval_acc=0.968, eval_loss=5.57, eval_precision=0.69, eval_recall=0.743]\n",
      "Epoch: 12/30 Train: 100%|██████████| 85/85 [01:12<00:00,  1.17it/s, F1=0.959, train_acc=0.995, train_loss=0.655, train_precision=0.957, train_recall=0.962]\n",
      "Eval Result: 100%|██████████| 5/5 [00:03<00:00,  1.64it/s, F1=0.699, eval_acc=0.969, eval_loss=5.14, eval_precision=0.702, eval_recall=0.697]\n",
      "Epoch: 13/30 Train: 100%|██████████| 85/85 [01:13<00:00,  1.16it/s, F1=0.958, train_acc=0.996, train_loss=0.605, train_precision=0.953, train_recall=0.963]\n",
      "Eval Result: 100%|██████████| 5/5 [00:02<00:00,  1.73it/s, F1=0.704, eval_acc=0.966, eval_loss=5.62, eval_precision=0.655, eval_recall=0.761]\n",
      "Epoch: 14/30 Train: 100%|██████████| 85/85 [01:12<00:00,  1.17it/s, F1=0.959, train_acc=0.996, train_loss=0.514, train_precision=0.961, train_recall=0.958]\n",
      "Eval Result: 100%|██████████| 5/5 [00:02<00:00,  1.68it/s, F1=0.709, eval_acc=0.968, eval_loss=6, eval_precision=0.676, eval_recall=0.746]\n",
      "Epoch: 15/30 Train: 100%|██████████| 85/85 [01:15<00:00,  1.12it/s, F1=0.971, train_acc=0.997, train_loss=0.389, train_precision=0.97, train_recall=0.971]\n",
      "Eval Result: 100%|██████████| 5/5 [00:03<00:00,  1.63it/s, F1=0.688, eval_acc=0.967, eval_loss=6.24, eval_precision=0.641, eval_recall=0.743]\n",
      "Epoch: 16/30 Train: 100%|██████████| 85/85 [01:12<00:00,  1.17it/s, F1=0.97, train_acc=0.997, train_loss=0.351, train_precision=0.969, train_recall=0.97]\n",
      "Eval Result: 100%|██████████| 5/5 [00:03<00:00,  1.59it/s, F1=0.686, eval_acc=0.961, eval_loss=6.81, eval_precision=0.623, eval_recall=0.763]\n",
      "Epoch: 17/30 Train: 100%|██████████| 85/85 [01:12<00:00,  1.17it/s, F1=0.976, train_acc=0.997, train_loss=0.282, train_precision=0.975, train_recall=0.978]\n",
      "Eval Result: 100%|██████████| 5/5 [00:03<00:00,  1.57it/s, F1=0.712, eval_acc=0.968, eval_loss=6.18, eval_precision=0.677, eval_recall=0.751]\n",
      "Epoch: 18/30 Train: 100%|██████████| 85/85 [01:12<00:00,  1.17it/s, F1=0.974, train_acc=0.997, train_loss=0.281, train_precision=0.973, train_recall=0.975]\n",
      "Eval Result: 100%|██████████| 5/5 [00:02<00:00,  1.73it/s, F1=0.707, eval_acc=0.966, eval_loss=6.13, eval_precision=0.659, eval_recall=0.763]\n",
      "Epoch: 19/30 Train: 100%|██████████| 85/85 [01:13<00:00,  1.16it/s, F1=0.975, train_acc=0.997, train_loss=0.244, train_precision=0.975, train_recall=0.976]\n",
      "Eval Result: 100%|██████████| 5/5 [00:03<00:00,  1.58it/s, F1=0.7, eval_acc=0.966, eval_loss=6.47, eval_precision=0.645, eval_recall=0.766]\n",
      "Epoch: 20/30 Train: 100%|██████████| 85/85 [01:15<00:00,  1.12it/s, F1=0.976, train_acc=0.998, train_loss=0.221, train_precision=0.975, train_recall=0.977]\n",
      "Eval Result: 100%|██████████| 5/5 [00:03<00:00,  1.65it/s, F1=0.703, eval_acc=0.966, eval_loss=6.31, eval_precision=0.651, eval_recall=0.763]\n",
      "Epoch: 21/30 Train: 100%|██████████| 85/85 [01:12<00:00,  1.17it/s, F1=0.977, train_acc=0.998, train_loss=0.229, train_precision=0.976, train_recall=0.978]\n",
      "Eval Result: 100%|██████████| 5/5 [00:02<00:00,  1.72it/s, F1=0.697, eval_acc=0.965, eval_loss=6.52, eval_precision=0.644, eval_recall=0.758]\n",
      "Epoch: 22/30 Train: 100%|██████████| 85/85 [01:12<00:00,  1.17it/s, F1=0.975, train_acc=0.997, train_loss=0.225, train_precision=0.976, train_recall=0.974]\n",
      "Eval Result: 100%|██████████| 5/5 [00:02<00:00,  1.73it/s, F1=0.698, eval_acc=0.966, eval_loss=6.34, eval_precision=0.658, eval_recall=0.743]\n",
      "Epoch: 23/30 Train: 100%|██████████| 85/85 [01:12<00:00,  1.17it/s, F1=0.974, train_acc=0.997, train_loss=0.209, train_precision=0.975, train_recall=0.974]\n",
      "Eval Result: 100%|██████████| 5/5 [00:03<00:00,  1.64it/s, F1=0.711, eval_acc=0.968, eval_loss=6.28, eval_precision=0.671, eval_recall=0.756]\n",
      "Epoch: 24/30 Train: 100%|██████████| 85/85 [01:12<00:00,  1.17it/s, F1=0.977, train_acc=0.998, train_loss=0.207, train_precision=0.977, train_recall=0.977]\n",
      "Eval Result: 100%|██████████| 5/5 [00:03<00:00,  1.65it/s, F1=0.702, eval_acc=0.963, eval_loss=7.24, eval_precision=0.635, eval_recall=0.784]\n",
      "Epoch: 25/30 Train: 100%|██████████| 85/85 [01:15<00:00,  1.13it/s, F1=0.976, train_acc=0.997, train_loss=0.23, train_precision=0.975, train_recall=0.977]\n",
      "Eval Result: 100%|██████████| 5/5 [00:02<00:00,  1.73it/s, F1=0.718, eval_acc=0.966, eval_loss=6.57, eval_precision=0.659, eval_recall=0.789]\n",
      "Epoch: 26/30 Train: 100%|██████████| 85/85 [01:13<00:00,  1.16it/s, F1=0.976, train_acc=0.997, train_loss=0.238, train_precision=0.977, train_recall=0.975]\n",
      "Eval Result: 100%|██████████| 5/5 [00:02<00:00,  1.72it/s, F1=0.677, eval_acc=0.955, eval_loss=7.26, eval_precision=0.602, eval_recall=0.774]\n",
      "Epoch: 27/30 Train: 100%|██████████| 85/85 [01:13<00:00,  1.16it/s, F1=0.969, train_acc=0.997, train_loss=0.362, train_precision=0.971, train_recall=0.967]\n",
      "Eval Result: 100%|██████████| 5/5 [00:03<00:00,  1.64it/s, F1=0.732, eval_acc=0.968, eval_loss=6.78, eval_precision=0.69, eval_recall=0.779]\n",
      "Epoch: 28/30 Train: 100%|██████████| 85/85 [01:13<00:00,  1.16it/s, F1=0.971, train_acc=0.997, train_loss=0.281, train_precision=0.969, train_recall=0.974]\n",
      "Eval Result: 100%|██████████| 5/5 [00:02<00:00,  1.73it/s, F1=0.703, eval_acc=0.968, eval_loss=7.04, eval_precision=0.658, eval_recall=0.753]\n",
      "Epoch: 29/30 Train: 100%|██████████| 85/85 [01:13<00:00,  1.16it/s, F1=0.976, train_acc=0.998, train_loss=0.237, train_precision=0.978, train_recall=0.975]\n",
      "Eval Result: 100%|██████████| 5/5 [00:02<00:00,  1.73it/s, F1=0.703, eval_acc=0.968, eval_loss=6.33, eval_precision=0.686, eval_recall=0.72]\n",
      "Epoch: 30/30 Train: 100%|██████████| 85/85 [01:15<00:00,  1.13it/s, F1=0.978, train_acc=0.998, train_loss=0.23, train_precision=0.976, train_recall=0.98]\n",
      "Eval Result: 100%|██████████| 5/5 [00:02<00:00,  1.70it/s, F1=0.698, eval_acc=0.965, eval_loss=6.72, eval_precision=0.648, eval_recall=0.756]\n"
     ]
    }
   ],
   "source": [
    "trainer = NERTrainer(**args)\n",
    "\n",
    "for i in trainer(lr2=1e-2):\n",
    "    a = i"
   ]
  },
  {
   "cell_type": "markdown",
   "metadata": {},
   "source": [
    "## Super NER的预训练"
   ]
  },
  {
   "cell_type": "code",
   "execution_count": null,
   "metadata": {},
   "outputs": [],
   "source": [
    "from CC.loaders import *\n",
    "import pickle\n",
    "from tqdm import *\n",
    "from CC.loaders.utils import *\n",
    "import json\n",
    "from CC.pre_trained import NERPreTrainer"
   ]
  },
  {
   "cell_type": "code",
   "execution_count": null,
   "metadata": {},
   "outputs": [],
   "source": [
    "args = {\n",
    "    'num_epochs': 30,\n",
    "    'num_gpus': [0, 1, 2, 3],\n",
    "    'bert_config_file_name': './model/chinese_wwm_ext/bert_config.json',\n",
    "    'pretrained_file_name': './model/chinese_wwm_ext/pytorch_model.bin',\n",
    "    'max_seq_length': 512,\n",
    "    'max_scan_num': 1500000,\n",
    "    'train_file': './data/SuperNER/pre_train.json',\n",
    "    'eval_file': './data/SuperNER/pre_dev.json',\n",
    "    'test_file': './data/SuperNER/pre_test.json',\n",
    "    'bert_vocab_file': './model/chinese_wwm_ext/vocab.txt',\n",
    "    'tag_file': './data/SuperNER/tags_list.txt',\n",
    "    'loader_name': 'lex_loader',\n",
    "    \"word_embedding_file\": \"./data/tencent/word_embedding.txt\",\n",
    "    \"word_vocab_file\": \"./data/tencent/tencent_vocab.txt\",\n",
    "    \"word_vocab_file_with_tag\": \"./data/tencent/tencent_vocab_with_tag.json\",\n",
    "    \"default_tag\": \"O\",\n",
    "    'batch_size': 32,\n",
    "    'eval_batch_size': 64,\n",
    "    'do_shuffle': True,\n",
    "    'task_name': 'Pre_trained',\n",
    "    \"use_gpu\": True,\n",
    "    \"debug\": True,\n",
    "    \"tag_rules\": {\n",
    "        \"ORG\": \"机构\",\n",
    "        \"LOC\": \"地名\",\n",
    "        \"PER\": \"人名\",\n",
    "        \"Time\": \"时间\",\n",
    "        \"Thing\": \"物品\",\n",
    "        \"Metric\": \"度量\",\n",
    "        \"Abstract\": \"作品\",\n",
    "        \"Physical\": \"实体\",\n",
    "        \"Term\": \"术语\",\n",
    "        \"company\": \"企业\",\n",
    "        \"name\": \"名字\",\n",
    "        \"game\": \"游戏\",\n",
    "        \"movie\": \"电影\",\n",
    "        \"position\": \"职位\",\n",
    "        \"address\": \"地址\",\n",
    "        \"government\": \"政府\",\n",
    "        \"scene\": \"景点\",\n",
    "        \"book\": \"书名\"\n",
    "    }\n",
    "}\n",
    "\n",
    "pre_trainer = NERPreTrainer(**args)\n",
    "\n",
    "for i in pre_trainer():\n",
    "    a = i"
   ]
  },
  {
   "cell_type": "markdown",
   "metadata": {},
   "source": [
    "## Weibo的预训练\n",
    "loader: lex_loader"
   ]
  },
  {
   "cell_type": "code",
   "execution_count": null,
   "metadata": {},
   "outputs": [],
   "source": [
    "from CC.loaders import *\n",
    "import pickle\n",
    "from tqdm import *\n",
    "from CC.loaders.utils import *\n",
    "import json\n",
    "from CC.pre_trained import NERPreTrainer"
   ]
  },
  {
   "cell_type": "code",
   "execution_count": null,
   "metadata": {},
   "outputs": [],
   "source": [
    "args = {\n",
    "    'num_epochs': 30,\n",
    "    'num_gpus': [0, 1, 2, 3],\n",
    "    'bert_config_file_name': './model/chinese_wwm_ext/bert_config.json',\n",
    "    'pretrained_file_name': './model/chinese_wwm_ext/pytorch_model.bin',\n",
    "    'max_seq_length': 512,\n",
    "    'max_scan_num': 1000000,\n",
    "    'train_file': './data/weibo/train.json',\n",
    "    'eval_file': './data/weibo/dev.json',\n",
    "    'test_file': './data/weibo/test.json',\n",
    "    'bert_vocab_file': './model/chinese_wwm_ext/vocab.txt',\n",
    "    'tag_file': './data/weibo/pretrained_labels.txt',\n",
    "    'loader_name': 'lex_loader',\n",
    "    \"word_embedding_file\": \"./data/tencent/word_embedding.txt\",\n",
    "    \"word_vocab_file\": \"./data/tencent/tencent_vocab.txt\",\n",
    "    \"word_vocab_file_with_tag\": \"./data/tencent/tencent_vocab_with_tag.json\",\n",
    "    \"default_tag\": \"O\",\n",
    "    'batch_size': 32,\n",
    "    'eval_batch_size': 64,\n",
    "    'do_shuffle': True,\n",
    "    'task_name': 'Weibo_Full_Pretrained',\n",
    "    \"use_gpu\": True,\n",
    "    \"debug\": True,\n",
    "    \"tag_rules\": {\n",
    "        \"PER.NOM\": \"指代人名\",\n",
    "        \"LOC.NAM\": \"地名\",\n",
    "        \"PER.NAM\": \"人名\",\n",
    "        \"GPE.NAM\": \"政体\",\n",
    "        \"ORG.NAM\": \"机构\",\n",
    "        \"ORG.NOM\": \"指代机构\",\n",
    "        \"LOC.NOM\": \"指代地名\",\n",
    "        \"GPE.NOM\": \"指代政体\",\n",
    "        \"ORG\": \"机构\",\n",
    "        \"LOC\": \"地名\",\n",
    "        \"PER\": \"人名\",\n",
    "        \"Time\": \"时间\",\n",
    "        \"Thing\": \"物品\",\n",
    "        \"Metric\": \"度量\",\n",
    "        \"Abstract\": \"作品\",\n",
    "        \"Physical\": \"实体\",\n",
    "        \"Term\": \"术语\",\n",
    "        \"company\": \"企业\",\n",
    "        \"name\": \"名字\",\n",
    "        \"game\": \"游戏\",\n",
    "        \"movie\": \"电影\",\n",
    "        \"position\": \"职位\",\n",
    "        \"address\": \"地址\",\n",
    "        \"government\": \"政府\",\n",
    "        \"scene\": \"景点\",\n",
    "        \"book\": \"书名\"\n",
    "    }\n",
    "}\n",
    "\n",
    "pre_trainer = NERPreTrainer(**args)\n",
    "\n",
    "for i in pre_trainer():\n",
    "    a = i"
   ]
  },
  {
   "cell_type": "markdown",
   "metadata": {},
   "source": [
    "## Weibo的预训练(屏蔽无关实体)\n",
    "loader: lex_loader"
   ]
  },
  {
   "cell_type": "code",
   "execution_count": null,
   "metadata": {},
   "outputs": [],
   "source": [
    "from CC.loaders import *\n",
    "import pickle\n",
    "from tqdm import *\n",
    "from CC.loaders.utils import *\n",
    "import json\n",
    "from CC.pre_trained import NERPreTrainer"
   ]
  },
  {
   "cell_type": "code",
   "execution_count": null,
   "metadata": {},
   "outputs": [],
   "source": [
    "args = {\n",
    "    'num_epochs': 30,\n",
    "    'num_gpus': [0, 1, 2, 3],\n",
    "    'bert_config_file_name': './model/chinese_wwm_ext/bert_config.json',\n",
    "    'pretrained_file_name': './model/chinese_wwm_ext/pytorch_model.bin',\n",
    "    'max_seq_length': 512,\n",
    "    'max_scan_num': 3000000,\n",
    "    'train_file': './data/weibo/train.json',\n",
    "    'eval_file': './data/weibo/dev.json',\n",
    "    'test_file': './data/weibo/test.json',\n",
    "    'bert_vocab_file': './model/chinese_wwm_ext/vocab.txt',\n",
    "    'tag_file': './data/weibo/pretrained_labels.txt',\n",
    "    'loader_name': 'lex_loader',\n",
    "    \"word_embedding_file\": \"./data/tencent/word_embedding.txt\",\n",
    "    \"word_vocab_file\": \"./data/tencent/tencent_vocab.txt\",\n",
    "    \"word_vocab_file_with_tag\": \"./data/tencent/tencent_vocab_with_tag.json\",\n",
    "    \"default_tag\": \"O\",\n",
    "    'batch_size': 32,\n",
    "    'eval_batch_size': 64,\n",
    "    'do_shuffle': True,\n",
    "    'task_name': 'Weibo_Full_Pretrained',\n",
    "    \"use_gpu\": True,\n",
    "    \"debug\": True,\n",
    "    \"pass_none_rule\": True,\n",
    "    \"tag_rules\": {\n",
    "        \"PER.NOM\": \"指代人名\",\n",
    "        \"LOC.NAM\": \"地名\",\n",
    "        \"PER.NAM\": \"人名\",\n",
    "        \"GPE.NAM\": \"政体\",\n",
    "        \"ORG.NAM\": \"机构\",\n",
    "        \"ORG.NOM\": \"指代机构\",\n",
    "        \"LOC.NOM\": \"指代地名\",\n",
    "        \"GPE.NOM\": \"指代政体\",\n",
    "        \"ORG\": \"机构\",\n",
    "        \"LOC\": \"地名\",\n",
    "        \"PER\": \"人名\",\n",
    "        \"government\": \"政府\"\n",
    "    }\n",
    "}\n",
    "\n",
    "pre_trainer = NERPreTrainer(**args)\n",
    "\n",
    "for i in pre_trainer():\n",
    "    a = i"
   ]
  },
  {
   "cell_type": "markdown",
   "metadata": {},
   "source": [
    "## 适用于`CONLL`的预训练\n",
    "loader: cnx_loader"
   ]
  },
  {
   "cell_type": "code",
   "execution_count": null,
   "metadata": {},
   "outputs": [],
   "source": [
    "from CC.loaders import *\n",
    "import pickle\n",
    "from tqdm import *\n",
    "from CC.loaders.utils import *\n",
    "import json\n",
    "from CC.pre_trained import NERPreTrainer"
   ]
  },
  {
   "cell_type": "code",
   "execution_count": null,
   "metadata": {},
   "outputs": [],
   "source": [
    "args = {\n",
    "    'num_epochs': 30,\n",
    "    'num_gpus': [0, 1, 2, 3],\n",
    "    'bert_config_file_name': './model/chinese_wwm_ext/bert_config.json',\n",
    "    'pretrained_file_name': './model/chinese_wwm_ext/pytorch_model.bin',\n",
    "    'max_seq_length': 512,\n",
    "    'max_scan_num': 1000000,\n",
    "    'train_file': './data/weibonew/train.json',\n",
    "    'bert_vocab_file': './model/chinese_wwm_ext/vocab.txt',\n",
    "    'tag_file': './data/weibo/pretrained_labels.txt',\n",
    "    'loader_name': 'cnx_loader',\n",
    "    'batch_size': 32,\n",
    "    'eval_batch_size': 64,\n",
    "    'do_shuffle': True,\n",
    "    'use_json': True,\n",
    "    'model_name': 'Bert',\n",
    "    'task_name': 'Weibo_CNX_Pretrained',\n",
    "    \"use_gpu\": True,\n",
    "    \"debug\": True,\n",
    "    \"tag_rules\": {\n",
    "        \"PER.NOM\": \"指代人名\",\n",
    "        \"LOC.NAM\": \"地名\",\n",
    "        \"PER.NAM\": \"人名\",\n",
    "        \"GPE.NAM\": \"政体\",\n",
    "        \"ORG.NAM\": \"机构\",\n",
    "        \"ORG.NOM\": \"指代机构\",\n",
    "        \"LOC.NOM\": \"指代地名\",\n",
    "        \"GPE.NOM\": \"指代政体\",\n",
    "        \"ORG\": \"机构\",\n",
    "        \"LOC\": \"地名\",\n",
    "        \"PER\": \"人名\",\n",
    "        \"Time\": \"时间\",\n",
    "        \"Thing\": \"物品\",\n",
    "        \"Metric\": \"度量\",\n",
    "        \"Abstract\": \"作品\",\n",
    "        \"Physical\": \"实体\",\n",
    "        \"Term\": \"术语\",\n",
    "        \"company\": \"企业\",\n",
    "        \"name\": \"名字\",\n",
    "        \"game\": \"游戏\",\n",
    "        \"movie\": \"电影\",\n",
    "        \"position\": \"职位\",\n",
    "        \"address\": \"地址\",\n",
    "        \"government\": \"政府\",\n",
    "        \"scene\": \"景点\",\n",
    "        \"book\": \"书名\"\n",
    "    }\n",
    "}\n",
    "\n",
    "pre_trainer = NERPreTrainer(**args)\n",
    "\n",
    "for i in pre_trainer():\n",
    "    a = i"
   ]
  },
  {
   "cell_type": "code",
   "execution_count": null,
   "metadata": {},
   "outputs": [],
   "source": [
    "tokenizer = BertTokenizer.from_pretrained('./model/chinese_wwm_ext/vocab.txt')\n",
    "tokenizer.decode([101, 3322, 679, 1377, 1927, 5456, 2692, 4661, 4197, 4638, 2108, 5688, 4867, 2703, 1920, 2157, 6963, 4495, 3322, 1234, 1234, 8024, 6944, 6944, 5876, 5876, 102])"
   ]
  },
  {
   "cell_type": "markdown",
   "metadata": {},
   "source": [
    "## Weibo 预训练x纠错"
   ]
  },
  {
   "cell_type": "code",
   "execution_count": null,
   "metadata": {},
   "outputs": [],
   "source": [
    "from CC.loaders import *\n",
    "import pickle\n",
    "from tqdm import *\n",
    "from CC.loaders.utils import *\n",
    "import json\n",
    "from CC.pre_trained import NERPreTrainer"
   ]
  },
  {
   "cell_type": "code",
   "execution_count": null,
   "metadata": {},
   "outputs": [],
   "source": [
    "args = {\n",
    "    'num_epochs': 30,\n",
    "    'num_gpus': [0, 1, 2, 3],\n",
    "    'bert_config_file_name': './model/chinese_wwm_ext/bert_config.json',\n",
    "    'pretrained_file_name': './model/chinese_wwm_ext/pytorch_model.bin',\n",
    "    'max_seq_length': 512,\n",
    "    'max_scan_num': 1000000,\n",
    "    'train_file': './data/weibo/train_5x.json',\n",
    "    'eval_file': './data/weibo/dev.json',\n",
    "    'test_file': './data/weibo/test.json',\n",
    "    'bert_vocab_file': './model/chinese_wwm_ext/vocab.txt',\n",
    "    'tag_file': './data/weibo/pretrained_labels.txt',\n",
    "    'loader_name': 'labellex_loader',\n",
    "    \"word_embedding_file\": \"./data/tencent/word_embedding.txt\",\n",
    "    \"word_vocab_file\": \"./data/tencent/tencent_vocab.txt\",\n",
    "    \"word_vocab_file_with_tag\": \"./data/tencent/tencent_vocab_with_tag.json\",\n",
    "    \"default_tag\": \"O\",\n",
    "    'batch_size': 32,\n",
    "    'eval_batch_size': 64,\n",
    "    'do_shuffle': True,\n",
    "    'task_name': 'Weibo_Full20xC_Pretrained',\n",
    "    \"use_gpu\": True,\n",
    "    \"debug\": True,\n",
    "    \"tag_rules\": {\n",
    "        \"PER.NOM\": \"指代人名\",\n",
    "        \"LOC.NAM\": \"地名\",\n",
    "        \"PER.NAM\": \"人名\",\n",
    "        \"GPE.NAM\": \"政体\",\n",
    "        \"ORG.NAM\": \"机构\",\n",
    "        \"ORG.NOM\": \"指代机构\",\n",
    "        \"LOC.NOM\": \"指代地名\",\n",
    "        \"GPE.NOM\": \"指代政体\",\n",
    "        \"ORG\": \"机构\",\n",
    "        \"LOC\": \"地名\",\n",
    "        \"PER\": \"人名\",\n",
    "        \"Time\": \"时间\",\n",
    "        \"Thing\": \"物品\",\n",
    "        \"Metric\": \"度量\",\n",
    "        \"Abstract\": \"作品\",\n",
    "        \"Physical\": \"实体\",\n",
    "        \"Term\": \"术语\",\n",
    "        \"company\": \"企业\",\n",
    "        \"name\": \"名字\",\n",
    "        \"game\": \"游戏\",\n",
    "        \"movie\": \"电影\",\n",
    "        \"position\": \"职位\",\n",
    "        \"address\": \"地址\",\n",
    "        \"government\": \"政府\",\n",
    "        \"scene\": \"景点\",\n",
    "        \"book\": \"书名\"\n",
    "    }\n",
    "}\n",
    "\n",
    "pre_trainer = NERPreTrainer(**args)\n",
    "\n",
    "for i in pre_trainer():\n",
    "    a = i"
   ]
  },
  {
   "cell_type": "markdown",
   "metadata": {},
   "source": [
    "## 数据集扩展"
   ]
  },
  {
   "cell_type": "code",
   "execution_count": null,
   "metadata": {},
   "outputs": [],
   "source": [
    "from CC.loaders import *\n",
    "\n",
    "loader = LabelLoader(**{\n",
    "    \"auto_loader\": False,\n",
    "    \"debug\": True,\n",
    "    \"file_name\": \"./data/weibo/train.json\",\n",
    "    \"random_rate\": 1.0,\n",
    "    \"expansion_rate\": 5\n",
    "}).read_data_set(\"./data/weibo/train.json\", 1.0) \\\n",
    "    .process_data(5) \\\n",
    "    .to_file(\"./train_5x.json\")"
   ]
  },
  {
   "cell_type": "markdown",
   "metadata": {},
   "source": []
  }
 ],
 "metadata": {
  "interpreter": {
   "hash": "1e1e097b6c3c5a2a39328ddbc7de6327b7bd71c15618bc750f041eecacee4167"
  },
  "kernelspec": {
   "display_name": "Python 3.8.10 64-bit ('pcpower': conda)",
   "name": "python3"
  },
  "language_info": {
   "codemirror_mode": {
    "name": "ipython",
    "version": 3
   },
   "file_extension": ".py",
   "mimetype": "text/x-python",
   "name": "python",
   "nbconvert_exporter": "python",
   "pygments_lexer": "ipython3",
   "version": "3.8.10"
  },
  "orig_nbformat": 4
 },
 "nbformat": 4,
 "nbformat_minor": 2
}
